{
  "nbformat": 4,
  "nbformat_minor": 0,
  "metadata": {
    "colab": {
      "provenance": [],
      "gpuType": "T4"
    },
    "kernelspec": {
      "name": "python3",
      "display_name": "Python 3"
    },
    "language_info": {
      "name": "python"
    },
    "accelerator": "GPU"
  },
  "cells": [
    {
      "cell_type": "code",
      "execution_count": null,
      "metadata": {
        "colab": {
          "base_uri": "https://localhost:8080/"
        },
        "id": "n02rBPnJdNYl",
        "outputId": "9613fdb3-473d-4a00-d821-e087a63ac5c1"
      },
      "outputs": [
        {
          "output_type": "stream",
          "name": "stdout",
          "text": [
            "Cloning into 'CellGAN'...\n",
            "remote: Enumerating objects: 94, done.\u001b[K\n",
            "remote: Counting objects: 100% (47/47), done.\u001b[K\n",
            "remote: Compressing objects: 100% (32/32), done.\u001b[K\n",
            "remote: Total 94 (delta 28), reused 28 (delta 13), pack-reused 47 (from 1)\u001b[K\n",
            "Receiving objects: 100% (94/94), 137.47 MiB | 19.49 MiB/s, done.\n",
            "Resolving deltas: 100% (33/33), done.\n"
          ]
        }
      ],
      "source": [
        "!git clone https://github.com/ZhenrongShen/CellGAN.git"
      ]
    },
    {
      "cell_type": "code",
      "source": [
        "%cd CellGAN/\n",
        "%pwd"
      ],
      "metadata": {
        "colab": {
          "base_uri": "https://localhost:8080/",
          "height": 53
        },
        "id": "myEd6O00dYzn",
        "outputId": "584c38da-a14f-43a7-b045-201bbe618d57"
      },
      "execution_count": null,
      "outputs": [
        {
          "output_type": "stream",
          "name": "stdout",
          "text": [
            "/content/CellGAN\n"
          ]
        },
        {
          "output_type": "execute_result",
          "data": {
            "text/plain": [
              "'/content/CellGAN'"
            ],
            "application/vnd.google.colaboratory.intrinsic+json": {
              "type": "string"
            }
          },
          "metadata": {},
          "execution_count": 2
        }
      ]
    },
    {
      "cell_type": "code",
      "source": [],
      "metadata": {
        "id": "dZY1MKPZYZE0"
      },
      "execution_count": null,
      "outputs": []
    },
    {
      "cell_type": "markdown",
      "source": [
        "###Use the following command:\n",
        "python3 cellgan_inference.py  --cell_type [desired cell type] --data_num [number of generated images]"
      ],
      "metadata": {
        "id": "muDqbFQHikC0"
      }
    },
    {
      "cell_type": "code",
      "source": [
        "!python3 cellgan_inference.py --cell_type ASC_H --data_num 10"
      ],
      "metadata": {
        "id": "a6oaCpqwkeEb",
        "colab": {
          "base_uri": "https://localhost:8080/"
        },
        "outputId": "678d0b85-4044-4b4a-97cb-89b3d26a2d20"
      },
      "execution_count": null,
      "outputs": [
        {
          "output_type": "stream",
          "name": "stdout",
          "text": [
            "/content/CellGAN/src/utils.py:59: FutureWarning: You are using `torch.load` with `weights_only=False` (the current default value), which uses the default pickle module implicitly. It is possible to construct malicious pickle data which will execute arbitrary code during unpickling (See https://github.com/pytorch/pytorch/blob/main/SECURITY.md#untrusted-models for more details). In a future release, the default value for `weights_only` will be flipped to `True`. This limits the functions that could be executed during unpickling. Arbitrary objects will no longer be allowed to be loaded via this mode unless they are explicitly allowlisted by the user via `torch.serialization.add_safe_globals`. We recommend you start setting `weights_only=True` for any use case where you don't have full control of the loaded file. Please open an issue on GitHub for any issues related to this experimental feature.\n",
            "  pretrained_dict = torch.load(pretrained_file)['model']\n",
            "Load pre-trained generator from checkpoints/model.pth\n",
            "generating ASC_H: 100% 10/10 [00:02<00:00,  4.02it/s]\n"
          ]
        }
      ]
    },
    {
      "cell_type": "code",
      "source": [],
      "metadata": {
        "id": "G8htb_36YcRs"
      },
      "execution_count": null,
      "outputs": []
    }
  ]
}