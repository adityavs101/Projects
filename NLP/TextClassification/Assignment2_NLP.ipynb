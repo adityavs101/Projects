{
  "nbformat": 4,
  "nbformat_minor": 0,
  "metadata": {
    "colab": {
      "provenance": []
    },
    "kernelspec": {
      "name": "python3",
      "display_name": "Python 3"
    },
    "language_info": {
      "name": "python"
    }
  },
  "cells": [
    {
      "cell_type": "markdown",
      "source": [
        "# **NLP Assignment 2 - Text Classification**"
      ],
      "metadata": {
        "id": "OF30YzVouyNM"
      }
    },
    {
      "cell_type": "markdown",
      "source": [
        "Team members-\n",
        "\n",
        "\n",
        "1.   Aditya Shinde (AI24MTECH11004)\n",
        "\n",
        "\n"
      ],
      "metadata": {
        "id": "cmAPV_Llux0E"
      }
    },
    {
      "cell_type": "markdown",
      "source": [
        "- Implement and experiment with four different machine learning algorithms\n",
        "(excluding transformer-based models).\n",
        "\n",
        "- Train and evaluate the models using appropriate metrics.\n",
        "\n",
        "- Compare the performance of these models and analyze their strengths\n",
        "and weaknesses."
      ],
      "metadata": {
        "id": "RmpysudKuwWI"
      }
    },
    {
      "cell_type": "markdown",
      "source": [
        "# Models Used here are- Random Forest; Support Vector Machine, RNN, LSTM"
      ],
      "metadata": {
        "id": "bnW09I4IyLnW"
      }
    },
    {
      "cell_type": "code",
      "execution_count": null,
      "metadata": {
        "id": "jKXfFdV7n7uK"
      },
      "outputs": [],
      "source": [
        "# importing libraries\n",
        "import pandas as pd\n",
        "import numpy as np\n",
        "from sklearn.model_selection import train_test_split\n",
        "from sklearn.feature_extraction.text import CountVectorizer\n",
        "from sklearn.ensemble import RandomForestClassifier\n",
        "from sklearn.svm import SVC\n",
        "import tensorflow as tf\n",
        "from tensorflow.keras.preprocessing.text import Tokenizer\n",
        "from tensorflow.keras.preprocessing.sequence import pad_sequences\n",
        "from tensorflow.keras.models import Sequential\n",
        "from tensorflow.keras.layers import Embedding, LSTM, Dense, SimpleRNN"
      ]
    },
    {
      "cell_type": "code",
      "source": [
        "# reading my dataset\n",
        "print(\"Reading my dataset...\")\n",
        "data = pd.read_csv('Dataset.csv', names=['ID', 'TITLE', 'ABSTRACT', 'CS', 'Physics', 'Math', 'Stats', 'Biology', 'Finance'],on_bad_lines='skip')"
      ],
      "metadata": {
        "colab": {
          "base_uri": "https://localhost:8080/"
        },
        "id": "mCzKwDuZoELF",
        "outputId": "e3e9ceca-3394-4e1d-c53c-c097fd773329"
      },
      "execution_count": null,
      "outputs": [
        {
          "output_type": "stream",
          "name": "stdout",
          "text": [
            "Reading my dataset...\n"
          ]
        }
      ]
    },
    {
      "cell_type": "code",
      "source": [
        "# combining title and abstract to make it easier\n",
        "data['combined_text'] = data['TITLE'] + ' ' + data['ABSTRACT']"
      ],
      "metadata": {
        "id": "twhbmPqVoKir"
      },
      "execution_count": null,
      "outputs": []
    },
    {
      "cell_type": "code",
      "source": [
        "# getting topic names\n",
        "topic_cols = ['CS', 'Physics', 'Math', 'Stats', 'Biology', 'Finance']\n",
        "data['topic'] = data[topic_cols].idxmax(axis=1)"
      ],
      "metadata": {
        "id": "vmcjqHahoSQ9"
      },
      "execution_count": null,
      "outputs": []
    },
    {
      "cell_type": "code",
      "source": [
        "# converting topics to numbers because models need numbers\n",
        "from sklearn.preprocessing import LabelEncoder\n",
        "le = LabelEncoder()\n",
        "y = le.fit_transform(data['topic'])"
      ],
      "metadata": {
        "id": "Dn6Eapf6oc6i"
      },
      "execution_count": null,
      "outputs": []
    },
    {
      "cell_type": "code",
      "source": [
        "# splitting data into train and test\n",
        "X_train, X_test, y_train, y_test = train_test_split(data['combined_text'], y, test_size=0.2)"
      ],
      "metadata": {
        "id": "Z7lIcPrOoi3L"
      },
      "execution_count": null,
      "outputs": []
    },
    {
      "cell_type": "code",
      "source": [
        "# converting text to numbers\n",
        "print(\"Converting text to numbers...\")\n",
        "cv = CountVectorizer(max_features=1000)  # using only 1000 words to keep it simple\n",
        "X_train_cv = cv.fit_transform(X_train)\n",
        "X_test_cv = cv.transform(X_test)"
      ],
      "metadata": {
        "colab": {
          "base_uri": "https://localhost:8080/"
        },
        "id": "2PO1d9MponaL",
        "outputId": "8ec4e900-0277-4e24-8fb6-279789289524"
      },
      "execution_count": null,
      "outputs": [
        {
          "output_type": "stream",
          "name": "stdout",
          "text": [
            "Converting text to numbers...\n"
          ]
        }
      ]
    },
    {
      "cell_type": "code",
      "source": [
        "# training random forest\n",
        "print(\"Training Random Forest...\")\n",
        "rf = RandomForestClassifier(n_estimators=50)  # using 50 trees\n",
        "rf.fit(X_train_cv, y_train)\n",
        "rf_score = rf.score(X_test_cv, y_test)\n",
        "print(f\"Random Forest score: {rf_score}\")"
      ],
      "metadata": {
        "colab": {
          "base_uri": "https://localhost:8080/"
        },
        "id": "ry3OR9BLosQc",
        "outputId": "5d4d9a90-ed35-436b-fcfc-bef3d9a6bb83"
      },
      "execution_count": null,
      "outputs": [
        {
          "output_type": "stream",
          "name": "stdout",
          "text": [
            "Training Random Forest...\n",
            "Random Forest score: 0.7501787842669845\n"
          ]
        }
      ]
    },
    {
      "cell_type": "code",
      "source": [
        "\n",
        "# training SVM\n",
        "print(\"Training SVM...\")\n",
        "svm = SVC()\n",
        "svm.fit(X_train_cv, y_train)\n",
        "svm_score = svm.score(X_test_cv, y_test)\n",
        "print(f\"SVM score: {svm_score}\")"
      ],
      "metadata": {
        "colab": {
          "base_uri": "https://localhost:8080/"
        },
        "id": "obmrZ6Rqoyfn",
        "outputId": "e3156a5f-c02a-4d27-f200-e979113ca6c8"
      },
      "execution_count": null,
      "outputs": [
        {
          "output_type": "stream",
          "name": "stdout",
          "text": [
            "Training SVM...\n",
            "SVM score: 0.7854588796185935\n"
          ]
        }
      ]
    },
    {
      "cell_type": "code",
      "source": [
        "# preparing data for RNN and LSTM\n",
        "print(\"Preparing data for neural networks...\")\n",
        "tokenizer = Tokenizer(num_words=1000)\n",
        "tokenizer.fit_on_texts(X_train)\n",
        "\n",
        "X_train_seq = tokenizer.texts_to_sequences(X_train)\n",
        "X_test_seq = tokenizer.texts_to_sequences(X_test)\n",
        "\n",
        "# making sequences same length\n",
        "X_train_pad = pad_sequences(X_train_seq, maxlen=100)\n",
        "X_test_pad = pad_sequences(X_test_seq, maxlen=100)\n",
        "\n",
        "# converting labels for neural networks\n",
        "y_train_cat = tf.keras.utils.to_categorical(y_train)\n",
        "y_test_cat = tf.keras.utils.to_categorical(y_test)"
      ],
      "metadata": {
        "colab": {
          "base_uri": "https://localhost:8080/"
        },
        "id": "R-B1ohmlo3Ee",
        "outputId": "6b621d1a-bc2e-474d-f6f0-0cb147bf39e9"
      },
      "execution_count": null,
      "outputs": [
        {
          "output_type": "stream",
          "name": "stdout",
          "text": [
            "Preparing data for neural networks...\n"
          ]
        }
      ]
    },
    {
      "cell_type": "code",
      "source": [
        "# making RNN model\n",
        "print(\"Training RNN...\")\n",
        "rnn = Sequential([\n",
        "    Embedding(1000, 16, input_length=100),\n",
        "    SimpleRNN(32),\n",
        "    Dense(len(topic_cols), activation='softmax')\n",
        "])\n",
        "\n",
        "rnn.compile(optimizer='adam', loss='categorical_crossentropy', metrics=['accuracy'])\n",
        "rnn.fit(X_train_pad, y_train_cat, epochs=5, batch_size=32)\n",
        "rnn_score = rnn.evaluate(X_test_pad, y_test_cat)[1]\n",
        "print(f\"RNN score: {rnn_score}\")"
      ],
      "metadata": {
        "colab": {
          "base_uri": "https://localhost:8080/"
        },
        "id": "st3Yn7RJo7u_",
        "outputId": "07113fb6-8925-41df-df32-cbf37f8d15d0"
      },
      "execution_count": null,
      "outputs": [
        {
          "output_type": "stream",
          "name": "stdout",
          "text": [
            "Training RNN...\n",
            "Epoch 1/5\n",
            "\u001b[1m525/525\u001b[0m \u001b[32m━━━━━━━━━━━━━━━━━━━━\u001b[0m\u001b[37m\u001b[0m \u001b[1m18s\u001b[0m 30ms/step - accuracy: 0.4132 - loss: 1.4097\n",
            "Epoch 2/5\n",
            "\u001b[1m525/525\u001b[0m \u001b[32m━━━━━━━━━━━━━━━━━━━━\u001b[0m\u001b[37m\u001b[0m \u001b[1m17s\u001b[0m 24ms/step - accuracy: 0.6147 - loss: 1.0522\n",
            "Epoch 3/5\n",
            "\u001b[1m525/525\u001b[0m \u001b[32m━━━━━━━━━━━━━━━━━━━━\u001b[0m\u001b[37m\u001b[0m \u001b[1m20s\u001b[0m 24ms/step - accuracy: 0.6963 - loss: 0.9151\n",
            "Epoch 4/5\n",
            "\u001b[1m525/525\u001b[0m \u001b[32m━━━━━━━━━━━━━━━━━━━━\u001b[0m\u001b[37m\u001b[0m \u001b[1m20s\u001b[0m 24ms/step - accuracy: 0.6904 - loss: 0.9037\n",
            "Epoch 5/5\n",
            "\u001b[1m525/525\u001b[0m \u001b[32m━━━━━━━━━━━━━━━━━━━━\u001b[0m\u001b[37m\u001b[0m \u001b[1m20s\u001b[0m 24ms/step - accuracy: 0.7474 - loss: 0.7796\n",
            "\u001b[1m132/132\u001b[0m \u001b[32m━━━━━━━━━━━━━━━━━━━━\u001b[0m\u001b[37m\u001b[0m \u001b[1m1s\u001b[0m 7ms/step - accuracy: 0.7442 - loss: 0.8113\n",
            "RNN score: 0.7475566267967224\n"
          ]
        }
      ]
    },
    {
      "cell_type": "code",
      "source": [
        "# making LSTM model\n",
        "print(\"Training LSTM...\")\n",
        "lstm = Sequential([\n",
        "    Embedding(1000, 16, input_length=100),\n",
        "    LSTM(32),\n",
        "    Dense(len(topic_cols), activation='softmax')\n",
        "])\n",
        "\n",
        "lstm.compile(optimizer='adam', loss='categorical_crossentropy', metrics=['accuracy'])\n",
        "lstm.fit(X_train_pad, y_train_cat, epochs=5, batch_size=32)\n",
        "lstm_score = lstm.evaluate(X_test_pad, y_test_cat)[1]\n",
        "print(f\"LSTM score: {lstm_score}\")\n"
      ],
      "metadata": {
        "colab": {
          "base_uri": "https://localhost:8080/"
        },
        "id": "JPvb_ffBo_nJ",
        "outputId": "203f30bd-550c-4618-cb89-c4f815a49b84"
      },
      "execution_count": null,
      "outputs": [
        {
          "output_type": "stream",
          "name": "stdout",
          "text": [
            "Training LSTM...\n",
            "Epoch 1/5\n",
            "\u001b[1m525/525\u001b[0m \u001b[32m━━━━━━━━━━━━━━━━━━━━\u001b[0m\u001b[37m\u001b[0m \u001b[1m25s\u001b[0m 42ms/step - accuracy: 0.4509 - loss: 1.3779\n",
            "Epoch 2/5\n",
            "\u001b[1m525/525\u001b[0m \u001b[32m━━━━━━━━━━━━━━━━━━━━\u001b[0m\u001b[37m\u001b[0m \u001b[1m21s\u001b[0m 39ms/step - accuracy: 0.7649 - loss: 0.7599\n",
            "Epoch 3/5\n",
            "\u001b[1m525/525\u001b[0m \u001b[32m━━━━━━━━━━━━━━━━━━━━\u001b[0m\u001b[37m\u001b[0m \u001b[1m22s\u001b[0m 41ms/step - accuracy: 0.7828 - loss: 0.6885\n",
            "Epoch 4/5\n",
            "\u001b[1m525/525\u001b[0m \u001b[32m━━━━━━━━━━━━━━━━━━━━\u001b[0m\u001b[37m\u001b[0m \u001b[1m22s\u001b[0m 42ms/step - accuracy: 0.7867 - loss: 0.6618\n",
            "Epoch 5/5\n",
            "\u001b[1m525/525\u001b[0m \u001b[32m━━━━━━━━━━━━━━━━━━━━\u001b[0m\u001b[37m\u001b[0m \u001b[1m21s\u001b[0m 39ms/step - accuracy: 0.7928 - loss: 0.6336\n",
            "\u001b[1m132/132\u001b[0m \u001b[32m━━━━━━━━━━━━━━━━━━━━\u001b[0m\u001b[37m\u001b[0m \u001b[1m2s\u001b[0m 12ms/step - accuracy: 0.7765 - loss: 0.6801\n",
            "LSTM score: 0.776877224445343\n"
          ]
        }
      ]
    },
    {
      "cell_type": "code",
      "source": [
        "# printing all scores\n",
        "print(\"\\nFinal Scores:\")\n",
        "print(f\"Random Forest: {rf_score}\")\n",
        "print(f\"SVM: {svm_score}\")\n",
        "print(f\"RNN: {rnn_score}\")\n",
        "print(f\"LSTM: {lstm_score}\")"
      ],
      "metadata": {
        "colab": {
          "base_uri": "https://localhost:8080/"
        },
        "id": "fAraC3ebpDR_",
        "outputId": "f87f1459-9caf-4553-eef9-5bca24d9d056"
      },
      "execution_count": null,
      "outputs": [
        {
          "output_type": "stream",
          "name": "stdout",
          "text": [
            "\n",
            "Final Scores:\n",
            "Random Forest: 0.7501787842669845\n",
            "SVM: 0.7854588796185935\n",
            "RNN: 0.7475566267967224\n",
            "LSTM: 0.776877224445343\n"
          ]
        }
      ]
    },
    {
      "cell_type": "code",
      "source": [
        "# function to test new articles\n",
        "def predict_topic(title, abstract):\n",
        "    # combining title and abstract\n",
        "    text = title + \" \" + abstract\n",
        "\n",
        "    # converting to numbers using countvectorizer\n",
        "    text_cv = cv.transform([text])\n",
        "\n",
        "    # predicting using random forest (because it's simple)\n",
        "    pred = rf.predict(text_cv)\n",
        "    topic = le.inverse_transform(pred)[0]\n",
        "\n",
        "    return topic"
      ],
      "metadata": {
        "id": "hGcny0F2pF12"
      },
      "execution_count": null,
      "outputs": []
    },
    {
      "cell_type": "code",
      "source": [
        "# Example 1 -  test\n",
        "test_title = \"Machine Learning Applications\"\n",
        "test_abstract = \"This paper discusses various applications of machine learning in computer science\"\n",
        "prediction = predict_topic(test_title, test_abstract)\n",
        "print(f\"Predicted topic: {prediction}\")\n",
        "\n",
        "# Example 2 - Test\n",
        "my_title = \"Quantum Computing Advances\"\n",
        "my_abstract = \"Recent developments in quantum computing show promising results in solving complex mathematical problems\"\n",
        "result = predict_topic(my_title, my_abstract)\n",
        "print(f\"Predicted topic: {result}\")\n",
        "\n",
        "# Example 3 - Test\n",
        "# If you want to test with an existing article from your dataset\n",
        "sample_title = data['TITLE'].iloc[0]  # gets first title from your dataset\n",
        "sample_abstract = data['ABSTRACT'].iloc[0]  # gets first abstract\n",
        "predicted_topic = predict_topic(sample_title, sample_abstract)\n",
        "print(f\"Actual topic: {data['topic'].iloc[0]}\")\n",
        "print(f\"Predicted topic: {predicted_topic}\")"
      ],
      "metadata": {
        "colab": {
          "base_uri": "https://localhost:8080/"
        },
        "id": "94OmoNduuLyi",
        "outputId": "b1a1d6b0-67e3-4937-c689-a0a9d41c5086"
      },
      "execution_count": null,
      "outputs": [
        {
          "output_type": "stream",
          "name": "stdout",
          "text": [
            "Predicted topic: CS\n",
            "Predicted topic: Math\n",
            "Actual topic: Stats\n",
            "Predicted topic: Stats\n"
          ]
        }
      ]
    },
    {
      "cell_type": "code",
      "source": [
        "# Add this import at the top with other imports\n",
        "import matplotlib.pyplot as plt\n",
        "\n",
        "# Add this function at the end of the code\n",
        "def plot_model_scores():\n",
        "    # getting scores of all models\n",
        "    scores = {\n",
        "        'Random Forest': rf_score,\n",
        "        'SVM': svm_score,\n",
        "        'RNN': rnn_score,\n",
        "        'LSTM': lstm_score\n",
        "    }\n",
        "\n",
        "    # creating bar plot\n",
        "    plt.figure(figsize=(10, 6))\n",
        "    models = list(scores.keys())\n",
        "    values = list(scores.values())\n",
        "\n",
        "    # plotting bars\n",
        "    bars = plt.bar(models, values)\n",
        "\n",
        "    # adding value labels on top of bars\n",
        "    for bar in bars:\n",
        "        height = bar.get_height()\n",
        "        plt.text(bar.get_x() + bar.get_width()/2., height,\n",
        "                f'{height:.2f}',\n",
        "                ha='center', va='bottom')\n",
        "\n",
        "    # making plot look nice\n",
        "    plt.title('Model Performances Comparison')\n",
        "    plt.ylabel('Accuracy Score')\n",
        "    plt.ylim(0, 1)  # setting y-axis from 0 to 1\n",
        "    plt.grid(axis='y', linestyle='--', alpha=0.7)\n",
        "\n",
        "    # show plot\n",
        "    plt.show()\n",
        "\n",
        "# Call the function after all models are trained\n",
        "plot_model_scores()"
      ],
      "metadata": {
        "colab": {
          "base_uri": "https://localhost:8080/",
          "height": 545
        },
        "id": "Wjt67ObMtl1c",
        "outputId": "37dc011d-ba77-4b71-bd4f-bb6bd24adb66"
      },
      "execution_count": null,
      "outputs": [
        {
          "output_type": "display_data",
          "data": {
            "text/plain": [
              "<Figure size 1000x600 with 1 Axes>"
            ],
            "image/png": "[encoded data removed]"
          },
          "metadata": {}
        }
      ]
    },
    {
      "cell_type": "markdown",
      "source": [
        "We experimented with four models—Random Forest, SVM, RNN, and LSTM—to determine which of them performs best for text classification. SVM was the most accurate in its results (0.79), followed by LSTM (0.78), while both Random Forest and RNN managed 0.75.\n",
        "\n",
        "Random Forest is quick and easy but isn't good with text data as it doesn't recognize word order. SVM worked best, and it does fine even with little data, but it is slow with large datasets. RNN is good at picking up on word relationships but has issues with long pieces of text. LSTM is an upgrade to RNN that can recall long-term details, and it is perfect for text-related tasks, but it takes more time and resources.\n",
        "\n",
        "In brief, SVM works best for accuracy, LSTM works best for in-depth text analysis, Random Forest works best for instant results, and RNN works best if LSTM is too complex."
      ],
      "metadata": {
        "id": "MJItDA-Ux6Pr"
      }
    }
  ]
}